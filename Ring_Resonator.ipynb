{
 "cells": [
  {
   "cell_type": "code",
   "execution_count": 142,
   "id": "181dcefb",
   "metadata": {},
   "outputs": [],
   "source": [
    "import pandas as pd\n",
    "import numpy as np\n",
    "import matplotlib.pyplot as plt"
   ]
  },
  {
   "cell_type": "code",
   "execution_count": 143,
   "id": "6aa52714",
   "metadata": {},
   "outputs": [
    {
     "data": {
      "image/png": "[encoded data removed]",
      "text/plain": [
       "<Figure size 432x288 with 1 Axes>"
      ]
     },
     "metadata": {
      "needs_background": "light"
     },
     "output_type": "display_data"
    },
    {
     "name": "stdout",
     "output_type": "stream",
     "text": [
      "FSR: 2.97 nm\n",
      "FWHM: 0.01 nm\n",
      "Central Wavelength: 1547.61 nm\n",
      "Q-Factor: 154761.00 nm\n",
      "ng: 3.21\n",
      "losses: 0.42 cm^-1\n"
     ]
    }
   ],
   "source": [
    "# Import the data from csv file\n",
    "\n",
    "data = pd.read_csv('Ring_10E_13W_combined.csv', header=None, names=['wavelength', 'channel_1'], skiprows=1)\n",
    "\n",
    "# Extract data as arrays\n",
    "\n",
    "wavelength = data['wavelength'].values\n",
    "transmission = data['channel_1'].values\n",
    "\n",
    "plt.plot(wavelength, transmission)\n",
    "plt.xlabel('Wavelength (nm)')\n",
    "plt.ylabel('Transmission (dBM)')\n",
    "plt.title(f'Transmitted spectrum for the MRR')\n",
    "plt.xlim(1540,1560)\n",
    "plt.show()\n",
    "\n",
    "# Identify transmission valleys\n",
    "\n",
    "deriv = np.gradient(transmission)\n",
    "valleys = (np.diff(np.sign(np.diff(deriv))) > 0).nonzero()[0] + 1\n",
    "\n",
    "wavelength_range = (1540, 1560)\n",
    "valleys = valleys[(wavelength[valleys] >= wavelength_range[0]) & (wavelength[valleys] <= wavelength_range[1])]\n",
    "\n",
    "# Get the average Free spectral range (FSR)\n",
    "\n",
    "if len(valleys) >= 2:\n",
    "    \n",
    "    fsr = np.diff(wavelength[valleys])\n",
    "    valleys = valleys[transmission[valleys] <= -25]\n",
    "    fsr_list = []\n",
    "    \n",
    "    for i in range(len(valleys) - 1):\n",
    "        fsr = np.diff(wavelength[valleys[i:i+2]])[0]\n",
    "        if fsr > 1:\n",
    "            fsr_list.append(fsr)\n",
    "\n",
    "    if len(fsr_list) >= 1:\n",
    "        avg_fsr = np.mean(fsr_list)\n",
    "    else:\n",
    "        print(\"Could not find at least two valleys with FSR > 1 nm in the transmission data.\")\n",
    "\n",
    "    # Print the remaining valleys and FSRs\n",
    "    if len(valleys) >= 2:\n",
    "        fsr = np.diff(wavelength[valleys])\n",
    "        \n",
    "\n",
    "\n",
    "# transmitted power in mW\n",
    "\n",
    "transmission = 10**(data['channel_1'].values/10)\n",
    "\n",
    "# Isolate one resonance\n",
    "\n",
    "min_wavelength = 1546\n",
    "max_wavelength = 1548\n",
    "indices = np.where((wavelength >= min_wavelength) & (wavelength <= max_wavelength))[0]\n",
    "wavelength = wavelength[indices]\n",
    "transmission = transmission[indices]\n",
    "\n",
    "# Find resonant valley \n",
    "\n",
    "index = np.argmin(np.abs(wavelength - 1560))\n",
    "valley_index = np.argmin(transmission[max(0, index-50):min(index+50, len(transmission)-1)]) + max(0, index-50)\n",
    "valley_wavelength = wavelength[valley_index]\n",
    "valley_channel_1 = transmission[valley_index]\n",
    "\n",
    "\n",
    "# Calculate FWHM at the resonant valley\n",
    "\n",
    "half_power = (valley_channel_1 - 0.000001) / 2\n",
    "half_power_indices = np.where(transmission > half_power)[0]\n",
    "fwhm_wavelength_left = np.interp(half_power, transmission[:valley_index][::-1], wavelength[:valley_index][::-1])\n",
    "fwhm_wavelength_right = np.interp(half_power, transmission[valley_index:], wavelength[valley_index:])\n",
    "fwhm = fwhm_wavelength_right - fwhm_wavelength_left\n",
    "\n",
    "# Calculate central wavelength of the valley\n",
    "\n",
    "central_wavelength_indices = np.where(transmission == valley_channel_1)[0]\n",
    "central_wavelength_index = central_wavelength_indices[len(central_wavelength_indices) // 2]\n",
    "central_wavelength = wavelength[central_wavelength_index]\n",
    "\n",
    "#Calculate Q-factor, group index (ng) and Losses\n",
    "\n",
    "ring_radius = 40 * (10 ** -6) #ring radius in m\n",
    "Q_factor = central_wavelength/fwhm\n",
    "ng = ((central_wavelength * 10 ** (-9)) ** 2)/(2*np.pi*ring_radius*avg_fsr*(10**-9))\n",
    "losses = (np.pi*ng)/(Q_factor*(central_wavelength * 10 ** (-7)))\n",
    "\n",
    "# Print results\n",
    "\n",
    "print(\"FSR: {:.2f} nm\".format(avg_fsr))\n",
    "print(\"FWHM: {:.2f} nm\".format(fwhm))\n",
    "print(\"Central Wavelength: {:.2f} nm\".format(central_wavelength))\n",
    "print('Q-Factor: {:.2f} nm'.format(Q_factor))\n",
    "print('ng: {:.2f}'.format(ng))\n",
    "print('losses: {:.2f} cm^-1'.format(losses))\n",
    "\n",
    "\n"
   ]
  },
  {
   "cell_type": "code",
   "execution_count": null,
   "id": "79113e8b",
   "metadata": {},
   "outputs": [],
   "source": []
  }
 ],
 "metadata": {
  "kernelspec": {
   "display_name": "Python 3 (ipykernel)",
   "language": "python",
   "name": "python3"
  },
  "language_info": {
   "codemirror_mode": {
    "name": "ipython",
    "version": 3
   },
   "file_extension": ".py",
   "mimetype": "text/x-python",
   "name": "python",
   "nbconvert_exporter": "python",
   "pygments_lexer": "ipython3",
   "version": "3.9.7"
  }
 },
 "nbformat": 4,
 "nbformat_minor": 5
}
